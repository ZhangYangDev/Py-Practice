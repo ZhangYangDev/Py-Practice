{
 "cells": [
  {
   "cell_type": "markdown",
   "id": "668acb49-19cf-4ce0-9bed-ab0c917b53bb",
   "metadata": {},
   "source": [
    "## 列表"
   ]
  },
  {
   "cell_type": "code",
   "execution_count": 2,
   "id": "9c56ce4f-a8a8-4003-a537-43062060fffe",
   "metadata": {},
   "outputs": [
    {
     "name": "stdout",
     "output_type": "stream",
     "text": [
      "['trek', 'cannondale', 'redline', 'specialized']\n"
     ]
    }
   ],
   "source": [
    "bicycles = ['trek', 'cannondale', 'redline', 'specialized']\n",
    "print(bicycles)"
   ]
  },
  {
   "cell_type": "code",
   "execution_count": null,
   "id": "326deb64-b3cd-4daa-aaa6-8f79894a37a7",
   "metadata": {},
   "outputs": [],
   "source": []
  },
  {
   "cell_type": "code",
   "execution_count": null,
   "id": "3f0f6234-3cfc-4142-929e-ef72ce4ac714",
   "metadata": {},
   "outputs": [],
   "source": []
  },
  {
   "cell_type": "code",
   "execution_count": null,
   "id": "47a9d851-4bcc-4faa-b62d-c0e9f84e6893",
   "metadata": {},
   "outputs": [],
   "source": []
  },
  {
   "cell_type": "code",
   "execution_count": null,
   "id": "f4fb9188-1052-4eb5-ba50-325c018dd155",
   "metadata": {},
   "outputs": [],
   "source": []
  },
  {
   "cell_type": "code",
   "execution_count": null,
   "id": "0e2e76d7-3f79-4dca-bbc5-40418ae6c6ce",
   "metadata": {},
   "outputs": [],
   "source": []
  },
  {
   "cell_type": "code",
   "execution_count": null,
   "id": "6e25354d-b2a6-4651-a4b8-b826857df3bd",
   "metadata": {},
   "outputs": [],
   "source": []
  },
  {
   "cell_type": "code",
   "execution_count": null,
   "id": "f89f2a1e-c3cc-4eda-a6a6-b70ab66cc6ee",
   "metadata": {
    "slideshow": {
     "slide_type": "notes"
    },
    "tags": []
   },
   "outputs": [],
   "source": [
    "##准确的来说，在python中是没有数组类型的，python中取而代之的是列表和元组。\n",
    "## 列表比元组好用，因为元组一旦定义就没法修改。而列表不仅可以和数组一样按索引访问，还有一堆的功能。"
   ]
  }
 ],
 "metadata": {
  "kernelspec": {
   "display_name": "Python 3 (ipykernel)",
   "language": "python",
   "name": "python3"
  },
  "language_info": {
   "codemirror_mode": {
    "name": "ipython",
    "version": 3
   },
   "file_extension": ".py",
   "mimetype": "text/x-python",
   "name": "python",
   "nbconvert_exporter": "python",
   "pygments_lexer": "ipython3",
   "version": "3.8.5"
  }
 },
 "nbformat": 4,
 "nbformat_minor": 5
}
