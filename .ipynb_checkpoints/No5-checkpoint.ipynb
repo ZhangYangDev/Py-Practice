{
 "cells": [
  {
   "cell_type": "markdown",
   "id": "619e93e9",
   "metadata": {},
   "source": [
    "# IF"
   ]
  },
  {
   "cell_type": "markdown",
   "id": "300616ea",
   "metadata": {},
   "source": [
    "## 条件测试\n",
    "IF语句的核心条件是一个值为True或者False的表达式，这种表达式成为条件测试。\n",
    "Python根据条件测试的值来决定是否执行If语句中的代码，如果值为True就执行，反之则不执行。"
   ]
  },
  {
   "cell_type": "code",
   "execution_count": 1,
   "id": "512f4af1",
   "metadata": {},
   "outputs": [
    {
     "name": "stdout",
     "output_type": "stream",
     "text": [
      "aaa\n"
     ]
    }
   ],
   "source": [
    "## 检查值是否相等\n",
    "print('aaa')"
   ]
  },
  {
   "cell_type": "code",
   "execution_count": null,
   "id": "9875c57c",
   "metadata": {},
   "outputs": [],
   "source": []
  }
 ],
 "metadata": {
  "kernelspec": {
   "display_name": "Python 3 (ipykernel)",
   "language": "python",
   "name": "python3"
  },
  "language_info": {
   "codemirror_mode": {
    "name": "ipython",
    "version": 3
   },
   "file_extension": ".py",
   "mimetype": "text/x-python",
   "name": "python",
   "nbconvert_exporter": "python",
   "pygments_lexer": "ipython3",
   "version": "3.10.2"
  }
 },
 "nbformat": 4,
 "nbformat_minor": 5
}
