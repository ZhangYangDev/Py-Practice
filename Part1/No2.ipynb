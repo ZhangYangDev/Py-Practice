{
 "cells": [
  {
   "cell_type": "markdown",
   "id": "8a84b65b",
   "metadata": {},
   "source": [
    "# 变量和简单数据类型"
   ]
  },
  {
   "cell_type": "markdown",
   "id": "6dd2f9c9",
   "metadata": {},
   "source": [
    "## 变量"
   ]
  },
  {
   "cell_type": "markdown",
   "id": "327daf2a",
   "metadata": {},
   "source": [
    "## 字符串"
   ]
  },
  {
   "cell_type": "markdown",
   "id": "1adab874",
   "metadata": {},
   "source": [
    "## 数"
   ]
  },
  {
   "cell_type": "markdown",
   "id": "c37c1942",
   "metadata": {},
   "source": [
    "## 注释"
   ]
  }
 ],
 "metadata": {
  "kernelspec": {
   "display_name": "Python 3",
   "language": "python",
   "name": "python3"
  },
  "language_info": {
   "codemirror_mode": {
    "name": "ipython",
    "version": 3
   },
   "file_extension": ".py",
   "mimetype": "text/x-python",
   "name": "python",
   "nbconvert_exporter": "python",
   "pygments_lexer": "ipython3",
   "version": "3.7.3"
  }
 },
 "nbformat": 4,
 "nbformat_minor": 5
}
